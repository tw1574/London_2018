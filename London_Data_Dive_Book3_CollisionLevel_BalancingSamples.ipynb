{
 "cells": [
  {
   "cell_type": "markdown",
   "metadata": {},
   "source": [
    "Goal: create a model that predicts severity of a collision, based on the features of the collision\n",
    "\n",
    "Create a balanced training set of data:\n",
    "- repeat the samples in the smallest class --> repeat the observations from the smallest (just do it with the training set) -- to rebalance (maybe add in cross validation)\n",
    "- accuracy \n",
    "    -- how much better than the naive baselines (predict all one class)\n",
    "    -- print confusion matrix (to visuzliae imbalanced problems)\n",
    "\n"
   ]
  },
  {
   "cell_type": "code",
   "execution_count": 18,
   "metadata": {},
   "outputs": [
    {
     "name": "stdout",
     "output_type": "stream",
     "text": [
      "Populating the interactive namespace from numpy and matplotlib\n"
     ]
    }
   ],
   "source": [
    "import pandas as pd\n",
    "import numpy as np\n",
    "import pylab as pl\n",
    "%pylab inline\n",
    "import sklearn\n",
    "from sklearn.ensemble import RandomForestRegressor\n",
    "from sklearn.ensemble import RandomForestClassifier\n",
    "from sklearn.tree import DecisionTreeClassifier\n",
    "from sklearn.model_selection import GridSearchCV \n",
    "from sklearn.model_selection import train_test_split\n",
    "from sklearn import preprocessing\n",
    "from sklearn.datasets import make_classification\n",
    "from sklearn.ensemble import ExtraTreesClassifier\n",
    "\n",
    "from sklearn.linear_model import RandomizedLasso\n",
    "from sklearn.metrics import median_absolute_error\n",
    "from sklearn.linear_model import LinearRegression\n",
    "\n",
    "from sklearn.metrics import confusion_matrix\n",
    "from matplotlib import pyplot as plt"
   ]
  },
  {
   "cell_type": "markdown",
   "metadata": {},
   "source": [
    "1) Load data  \n",
    "    - 2014 attendant, vehicle, and casualty datasets\n",
    "    - Description of data: https://drive.google.com/drive/u/0/folders/1afX9SJzqmO6rQG6FDhpMlzOfoy_NwI7Q\n",
    "    - Merge on AREFNO\n",
    "2) Train, Test split  \n",
    "3) Hyper Paramter tuning for Random Forest Classifier  \n",
    "3) Feature Importance  \n",
    "4) Next: Visualize a decision tree  "
   ]
  },
  {
   "cell_type": "markdown",
   "metadata": {},
   "source": [
    "** * Load Data * **"
   ]
  },
  {
   "cell_type": "code",
   "execution_count": 20,
   "metadata": {},
   "outputs": [
    {
     "data": {
      "text/plain": [
       "3 Slight     52331\n",
       "2 Serious     3838\n",
       "1 Fatal        237\n",
       "Name: Accident Severity, dtype: int64"
      ]
     },
     "execution_count": 20,
     "metadata": {},
     "output_type": "execute_result"
    }
   ],
   "source": [
    "df_att = pd.read_csv('./data/2014-gla-data-extract-attendant.csv')\n",
    "df_cas = pd.read_csv('./data/2014-gla-data-extract-casualty.csv')\n",
    "df_veh = pd.read_csv('./data/2014-gla-data-extract-vehicle.csv')\n",
    "\n",
    "df_crash = pd.merge(df_att, df_cas, on='AREFNO', how='inner')\n",
    "\n",
    "df_crash = pd.merge(df_crash, df_veh, on='AREFNO', how='inner')\n",
    "\n",
    "df_crash.Time = [(x.strip(\"'\")) for x in df_crash.Time]\n",
    "df_crash.Time = [int(x[:2]) + int(x[-2:])/60 for x in df_crash.Time]\n",
    "\n",
    "df_crash['Accident Severity'].value_counts()"
   ]
  },
  {
   "cell_type": "markdown",
   "metadata": {},
   "source": [
    "***2) Train, Test split  ***"
   ]
  },
  {
   "cell_type": "markdown",
   "metadata": {},
   "source": [
    "- repeat the samples in the smallest class --> repeat the observations from the smallest (just do it with the training set) -- to rebalance (maybe add in cross validation)\n",
    "- accuracy \n",
    "    -- how much better than the naive baselines (predict all one class)\n",
    "    -- print confusion matrix (to visuzliae imbalanced problems)"
   ]
  },
  {
   "cell_type": "code",
   "execution_count": 37,
   "metadata": {},
   "outputs": [
    {
     "name": "stdout",
     "output_type": "stream",
     "text": [
      "X shape:  (56406, 35)\n",
      "y shape:  (56406,)\n",
      "X shape:  (56406, 234)\n",
      "\n",
      " shape\n",
      "X: train, test (33843, 234) (22563, 234) \n",
      "\n",
      "y: train, test (33843,) (22563,)\n"
     ]
    }
   ],
   "source": [
    "# Select X and y data\n",
    "\n",
    "y = df_crash['Accident Severity']\n",
    "\n",
    "X = df_crash[[\n",
    "    'Day', 'Time', 'Highway',\n",
    "       'Road Class 1', 'Road Type', 'Speed Limit',\n",
    "       'Junction Detail', 'Junction Control', 'Road Class 2', \n",
    "       'Ped. Crossing Decoded', 'Light Conditions (Banded)', 'Weather',\n",
    "       'Road Surface', 'Special Conditions', 'C/W Hazard', \n",
    "       'Ped. Location',\n",
    "       'Ped. Movement', 'Mode of Travel', 'Vehicle Type',\n",
    "        'Vehicle Type (Banded)',\n",
    "       'Vehicle Manoeuvres', 'Vehicle Skidding', 'Restricted Lane',\n",
    "       'Junction Location', 'Object in C/W', 'Veh. Leaving C/W',\n",
    "       'Veh. off C/W','VJNYPURP DECODED', 'Driver Sex',\n",
    "       'Driver Age', 'Driver Age (Banded)', 'Casualty Class',\n",
    "       'Casualty Sex', 'Casualty Age (Banded)', 'Casualty Age']]\n",
    "\n",
    "print ('X shape: ', X.shape)\n",
    "print ('y shape: ', y.shape)\n",
    "\n",
    "X=pd.get_dummies(X)\n",
    "print ('X shape: ', X.shape)\n",
    "\n",
    "X_train, X_test, y_train, y_test = train_test_split(\n",
    "    X, y, test_size=0.4, random_state=0, stratify=y)\n",
    "\n",
    "print ('\\n shape')\n",
    "print ('X: train, test', X_train.shape, X_test.shape, '\\n')\n",
    "print ('y: train, test', y_train.shape, y_test.shape)"
   ]
  },
  {
   "cell_type": "markdown",
   "metadata": {},
   "source": [
    "*** 3) Balancing samples in training set ***\n",
    "\n",
    "Code taken from https://www.kaggle.com/rafjaa/resampling-strategies-for-imbalanced-datasets"
   ]
  },
  {
   "cell_type": "code",
   "execution_count": 38,
   "metadata": {},
   "outputs": [
    {
     "data": {
      "image/png": "[encoded data removed]",
      "text/plain": [
       "<matplotlib.figure.Figure at 0x1a1667da90>"
      ]
     },
     "metadata": {},
     "output_type": "display_data"
    }
   ],
   "source": [
    "df_train = X.loc[X_train.index]\n",
    "df_train['Accident Severity'] = y[y_train.index]\n",
    "df_train['Accident Severity'].value_counts().plot(kind='bar', title='Count (Accident Severity)');"
   ]
  },
  {
   "cell_type": "code",
   "execution_count": 39,
   "metadata": {
    "collapsed": true
   },
   "outputs": [],
   "source": [
    "# Class count\n",
    "count_class_3, count_class_2, count_class_1 = df_train['Accident Severity'].value_counts()\n",
    "\n",
    "# Divide by class\n",
    "df_class_3 = df_train[df_train['Accident Severity'] == '3 Slight']\n",
    "df_class_2 = df_train[df_train['Accident Severity'] == '2 Serious']\n",
    "df_class_1 = df_train[df_train['Accident Severity'] == '1 Fatal']"
   ]
  },
  {
   "cell_type": "code",
   "execution_count": 40,
   "metadata": {
    "scrolled": true
   },
   "outputs": [
    {
     "name": "stdout",
     "output_type": "stream",
     "text": [
      "Random over-sampling:\n",
      "3 Slight     31398\n",
      "1 Fatal      31398\n",
      "2 Serious    31398\n",
      "Name: Accident Severity, dtype: int64\n"
     ]
    },
    {
     "data": {
      "image/png": "[encoded data removed]",
      "text/plain": [
       "<matplotlib.figure.Figure at 0x1a13a20208>"
      ]
     },
     "metadata": {},
     "output_type": "display_data"
    }
   ],
   "source": [
    "df_class_1_over = df_class_1.sample(count_class_3, replace=True) #take the number of fatal accidents as slight\n",
    "df_class_2_over = df_class_2.sample(count_class_3, replace=True)\n",
    "df_train_over = pd.concat([df_class_3, df_class_2_over, df_class_1_over], axis=0)\n",
    "\n",
    "print('Random over-sampling:')\n",
    "print(df_train_over['Accident Severity'].value_counts())\n",
    "\n",
    "df_train_over['Accident Severity'].value_counts().plot(kind='bar', title='Count (Accident Severity)');"
   ]
  },
  {
   "cell_type": "code",
   "execution_count": 41,
   "metadata": {},
   "outputs": [
    {
     "name": "stdout",
     "output_type": "stream",
     "text": [
      "X shape:  (94194, 234)\n",
      "y shape:  (94194,)\n"
     ]
    }
   ],
   "source": [
    "# split df_train into X and y\n",
    "\n",
    "y_train_over = df_train_over['Accident Severity']\n",
    "\n",
    "X_train_over = df_train_over.drop(['Accident Severity'], axis=1)\n",
    "\n",
    "\n",
    "print ('X shape: ', X_train_over.shape)\n",
    "print ('y shape: ', y_train_over.shape)\n",
    "\n"
   ]
  },
  {
   "cell_type": "markdown",
   "metadata": {},
   "source": [
    "*** Random Forest Modeling ***"
   ]
  },
  {
   "cell_type": "code",
   "execution_count": 42,
   "metadata": {},
   "outputs": [
    {
     "data": {
      "text/plain": [
       "92.77578336214157"
      ]
     },
     "execution_count": 42,
     "metadata": {},
     "output_type": "execute_result"
    }
   ],
   "source": [
    "#Naive predictor accuracy\n",
    "\n",
    "len(y_test[y_test == '3 Slight'])/ len(y_test)*100.00\n"
   ]
  },
  {
   "cell_type": "code",
   "execution_count": 43,
   "metadata": {
    "scrolled": true
   },
   "outputs": [
    {
     "name": "stdout",
     "output_type": "stream",
     "text": [
      "Accuracy: 93.63\n"
     ]
    }
   ],
   "source": [
    "rf = RandomForestClassifier(n_jobs=-1, random_state=0,n_estimators=100)\n",
    "\n",
    "rf=rf.fit(X_train_over,y_train_over)#run predictor with each parameter using training data\n",
    "pred=rf.predict(X_test)\n",
    "\n",
    "print ('Accuracy: %.2f' % ((len(y_test[pred == y_test])/len(y_test))*100))"
   ]
  },
  {
   "cell_type": "code",
   "execution_count": 44,
   "metadata": {},
   "outputs": [
    {
     "name": "stdout",
     "output_type": "stream",
     "text": [
      "Confusion matrix:\n",
      " [[   24     0    71]\n",
      " [    0   205  1330]\n",
      " [    0    36 20897]]\n"
     ]
    },
    {
     "data": {
      "image/png": "[encoded data removed]",
      "text/plain": [
       "<matplotlib.figure.Figure at 0x1a1a1f17b8>"
      ]
     },
     "metadata": {},
     "output_type": "display_data"
    }
   ],
   "source": [
    "# COnfusion matrix code\n",
    "\n",
    "y_pred = rf.predict(X_test)\n",
    "\n",
    "conf_mat = confusion_matrix(y_true=y_test, y_pred=y_pred, labels=['1 Fatal', '2 Serious', '3 Slight'])\n",
    "print('Confusion matrix:\\n', conf_mat)\n",
    "\n",
    "labels = ['Fatal', 'Serious', 'Slight']\n",
    "fig = plt.figure()\n",
    "ax = fig.add_subplot(111)\n",
    "cax = ax.matshow(conf_mat, cmap=plt.cm.Blues)\n",
    "fig.colorbar(cax)\n",
    "ax.set_xticklabels([''] + labels)\n",
    "ax.set_yticklabels([''] + labels)\n",
    "plt.xlabel('Predicted')\n",
    "plt.ylabel('True')\n",
    "plt.show()"
   ]
  },
  {
   "cell_type": "code",
   "execution_count": 45,
   "metadata": {
    "collapsed": true
   },
   "outputs": [],
   "source": [
    "count_cls_3, count_cls_2, count_cls_1 =y_test.value_counts()\n",
    "\n",
    "conf_mat_pct = (np.array(conf_mat.T / np.array([count_cls_1, count_cls_2, count_cls_3])).T)*100.00"
   ]
  },
  {
   "cell_type": "code",
   "execution_count": 46,
   "metadata": {},
   "outputs": [
    {
     "name": "stdout",
     "output_type": "stream",
     "text": [
      "Confusion matrix, (%):\n",
      " [[ 25.26315789   0.          74.73684211]\n",
      " [  0.          13.35504886  86.64495114]\n",
      " [  0.           0.17197726  99.82802274]]\n"
     ]
    },
    {
     "data": {
      "image/png": "[encoded data removed]",
      "text/plain": [
       "<matplotlib.figure.Figure at 0x1a152b6940>"
      ]
     },
     "metadata": {},
     "output_type": "display_data"
    }
   ],
   "source": [
    "print('Confusion matrix, (%):\\n', conf_mat_pct)\n",
    "\n",
    "labels = ['Fatal', 'Serious', 'Slight']\n",
    "fig = plt.figure()\n",
    "ax = fig.add_subplot(111)\n",
    "cax = ax.matshow(conf_mat_pct, cmap=plt.cm.Blues)\n",
    "fig.colorbar(cax)\n",
    "ax.set_xticklabels([''] + labels)\n",
    "ax.set_yticklabels([''] + labels)\n",
    "plt.xlabel('Predicted')\n",
    "plt.ylabel('True')\n",
    "plt.show()"
   ]
  },
  {
   "cell_type": "markdown",
   "metadata": {},
   "source": [
    "***4) Feature Importance  ***"
   ]
  },
  {
   "cell_type": "code",
   "execution_count": 47,
   "metadata": {},
   "outputs": [
    {
     "name": "stdout",
     "output_type": "stream",
     "text": [
      "Random Forest Feature ranking:          0                                                1\n",
      "0   0.0775                                             Time\n",
      "1   0.0598                                       Driver Age\n",
      "2   0.0583                                     Casualty Age\n",
      "3   0.0148                             Mode of Travel_4 Car\n",
      "4   0.0144                 Veh. Leaving C/W_0 Did Not Leave\n",
      "5   0.0141          Vehicle Manoeuvres_18 Going Ahead Other\n",
      "6   0.0141                      Junction Location_8 Jct Mid\n",
      "7   0.0124                 Light Conditions (Banded)_2 Dark\n",
      "8   0.0120                                    Day_Friday   \n",
      "9   0.0118                                   Road Class 1_A\n",
      "10  0.0116             Light Conditions (Banded)_1 Daylight\n",
      "11  0.0115                                    Day_Thursday \n",
      "12  0.0114  Ped. Crossing Decoded_0 No Xing Facility In 50m\n",
      "13  0.0114               Mode of Travel_3 Powered 2 Wheeler\n",
      "14  0.0113                        Driver Age (Banded)_35-64\n"
     ]
    },
    {
     "data": {
      "image/png": "[encoded data removed]",
      "text/plain": [
       "<matplotlib.figure.Figure at 0x1a1447ba90>"
      ]
     },
     "metadata": {},
     "output_type": "display_data"
    }
   ],
   "source": [
    "names = X_train_over.columns\n",
    "feat_sort = (sorted(zip(map(lambda x: round(x, 4), rf.feature_importances_), names), reverse=True))\n",
    "feat_num=50\n",
    "\n",
    "pl.figure(figsize=(8,6))\n",
    "pl.title(\"Random Forest Feature importance\")\n",
    "pl.bar(np.arange(feat_num), pd.DataFrame(feat_sort)[0][:feat_num], align='center')\n",
    "pl.xticks(np.arange(feat_num))\n",
    "pl.ylabel('Importance Score')\n",
    "\n",
    "print(\"Random Forest Feature ranking:\", pd.DataFrame(feat_sort)[:15])"
   ]
  },
  {
   "cell_type": "markdown",
   "metadata": {},
   "source": [
    "*** Redo Sampling with under sampling of Slight samples ***"
   ]
  },
  {
   "cell_type": "code",
   "execution_count": 50,
   "metadata": {
    "scrolled": false
   },
   "outputs": [
    {
     "name": "stdout",
     "output_type": "stream",
     "text": [
      "Random over-sampling:\n",
      "1 Fatal      2303\n",
      "2 Serious    2303\n",
      "3 Slight     2303\n",
      "Name: Accident Severity, dtype: int64\n",
      "X shape:  (6909, 234)\n",
      "y shape:  (6909,)\n"
     ]
    },
    {
     "data": {
      "image/png": "[encoded data removed]",
      "text/plain": [
       "<matplotlib.figure.Figure at 0x1a13a20c50>"
      ]
     },
     "metadata": {},
     "output_type": "display_data"
    }
   ],
   "source": [
    "df_class_1_over = df_class_1.sample(count_class_2, replace=True) #take the number of fatal accidents as slight\n",
    "df_class_3_under = df_class_3.sample(count_class_2, replace=True)\n",
    "df_train_over_under = pd.concat([df_class_3_under, df_class_2, df_class_1_over], axis=0)\n",
    "\n",
    "print('Random over-sampling:')\n",
    "print(df_train_over_under['Accident Severity'].value_counts())\n",
    "\n",
    "df_train_over_under['Accident Severity'].value_counts().plot(kind='bar', title='Count (Accident Severity)');\n",
    "\n",
    "# split df_train into X and y\n",
    "\n",
    "y_train_over_under = df_train_over_under['Accident Severity']\n",
    "\n",
    "X_train_over_under = df_train_over_under.drop(['Accident Severity'], axis=1)\n",
    "\n",
    "\n",
    "print ('X shape: ', X_train_over_under.shape)\n",
    "print ('y shape: ', y_train_over_under.shape)\n"
   ]
  },
  {
   "cell_type": "code",
   "execution_count": 54,
   "metadata": {},
   "outputs": [
    {
     "name": "stdout",
     "output_type": "stream",
     "text": [
      "Naive hypothesis:  0.9277578336214156\n"
     ]
    }
   ],
   "source": [
    "print ('Naive hypothesis: ', len(y_test[y_test == '3 Slight'])/len(y_test))"
   ]
  },
  {
   "cell_type": "code",
   "execution_count": 55,
   "metadata": {
    "scrolled": true
   },
   "outputs": [
    {
     "name": "stdout",
     "output_type": "stream",
     "text": [
      "Accuracy: 62.25\n"
     ]
    }
   ],
   "source": [
    "rf = RandomForestClassifier(n_jobs=-1, random_state=0,n_estimators=100)\n",
    "\n",
    "rf=rf.fit(X_train_over_under,y_train_over_under)#run predictor with each parameter using training data\n",
    "pred=rf.predict(X_test)\n",
    "\n",
    "print ('Accuracy: %.2f' % ((len(y_test[pred == y_test])/len(y_test))*100))"
   ]
  },
  {
   "cell_type": "code",
   "execution_count": 56,
   "metadata": {},
   "outputs": [
    {
     "name": "stdout",
     "output_type": "stream",
     "text": [
      "Confusion matrix:\n",
      " [[   38    44    13]\n",
      " [   11  1183   341]\n",
      " [   29  8080 12824]]\n"
     ]
    },
    {
     "data": {
      "image/png": "[encoded data removed]",
      "text/plain": [
       "<matplotlib.figure.Figure at 0x1a14c00320>"
      ]
     },
     "metadata": {},
     "output_type": "display_data"
    }
   ],
   "source": [
    "# COnfusion matrix code \n",
    "\n",
    "y_pred = rf.predict(X_test)\n",
    "\n",
    "conf_mat = confusion_matrix(y_true=y_test, y_pred=y_pred, labels=['1 Fatal', '2 Serious', '3 Slight'])\n",
    "print('Confusion matrix:\\n', conf_mat)\n",
    "\n",
    "labels = ['Fatal', 'Serious', 'Slight']\n",
    "fig = plt.figure()\n",
    "ax = fig.add_subplot(111)\n",
    "cax = ax.matshow(conf_mat, cmap=plt.cm.Blues)\n",
    "fig.colorbar(cax)\n",
    "ax.set_xticklabels([''] + labels)\n",
    "ax.set_yticklabels([''] + labels)\n",
    "plt.xlabel('Predicted')\n",
    "plt.ylabel('True')\n",
    "plt.show()"
   ]
  },
  {
   "cell_type": "code",
   "execution_count": 57,
   "metadata": {
    "collapsed": true
   },
   "outputs": [],
   "source": [
    "count_cls_3, count_cls_2, count_cls_1 =y_test.value_counts()\n",
    "\n",
    "conf_mat_pct = (np.array(conf_mat.T / np.array([count_cls_1, count_cls_2, count_cls_3])).T)*100.00"
   ]
  },
  {
   "cell_type": "code",
   "execution_count": 58,
   "metadata": {},
   "outputs": [
    {
     "name": "stdout",
     "output_type": "stream",
     "text": [
      "Confusion matrix, (%):\n",
      " [[ 40.          46.31578947  13.68421053]\n",
      " [  0.71661238  77.06840391  22.21498371]\n",
      " [  0.13853724  38.59934075  61.26212201]]\n"
     ]
    },
    {
     "data": {
      "image/png": "[encoded data removed]",
      "text/plain": [
       "<matplotlib.figure.Figure at 0x1a2913a390>"
      ]
     },
     "metadata": {},
     "output_type": "display_data"
    }
   ],
   "source": [
    "print('Confusion matrix, (%):\\n', conf_mat_pct)\n",
    "\n",
    "labels = ['Fatal', 'Serious', 'Slight']\n",
    "fig = plt.figure()\n",
    "ax = fig.add_subplot(111)\n",
    "cax = ax.matshow(conf_mat_pct, cmap=plt.cm.Blues)\n",
    "fig.colorbar(cax)\n",
    "ax.set_xticklabels([''] + labels)\n",
    "ax.set_yticklabels([''] + labels)\n",
    "plt.xlabel('Predicted')\n",
    "plt.ylabel('True')\n",
    "plt.show()"
   ]
  },
  {
   "cell_type": "code",
   "execution_count": 59,
   "metadata": {},
   "outputs": [
    {
     "name": "stdout",
     "output_type": "stream",
     "text": [
      "Random Forest Feature ranking:          0                                                1\n",
      "0   0.0700                                             Time\n",
      "1   0.0556                                       Driver Age\n",
      "2   0.0555                                     Casualty Age\n",
      "3   0.0174                             Mode of Travel_4 Car\n",
      "4   0.0170                 Veh. Leaving C/W_0 Did Not Leave\n",
      "5   0.0136          Vehicle Manoeuvres_18 Going Ahead Other\n",
      "6   0.0136                      Junction Location_8 Jct Mid\n",
      "7   0.0125             Light Conditions (Banded)_1 Daylight\n",
      "8   0.0120                 Light Conditions (Banded)_2 Dark\n",
      "9   0.0118                                    Highway_3 Bor\n",
      "10  0.0118                                    Day_Friday   \n",
      "11  0.0117                        Driver Age (Banded)_35-64\n",
      "12  0.0116  Ped. Crossing Decoded_0 No Xing Facility In 50m\n",
      "13  0.0114                                Driver Sex_1 Male\n",
      "14  0.0114                                    Day_Thursday \n"
     ]
    },
    {
     "data": {
      "image/png": "[encoded data removed]",
      "text/plain": [
       "<matplotlib.figure.Figure at 0x1a14a81940>"
      ]
     },
     "metadata": {},
     "output_type": "display_data"
    }
   ],
   "source": [
    "names = X_train_over_under.columns\n",
    "feat_sort = (sorted(zip(map(lambda x: round(x, 4), rf.feature_importances_), names), reverse=True))\n",
    "feat_num=50\n",
    "\n",
    "pl.figure(figsize=(8,6))\n",
    "pl.title(\"Random Forest Feature importance\")\n",
    "pl.bar(np.arange(feat_num), pd.DataFrame(feat_sort)[0][:feat_num], align='center')\n",
    "pl.xticks(np.arange(feat_num))\n",
    "pl.ylabel('Importance Score')\n",
    "\n",
    "print(\"Random Forest Feature ranking:\", pd.DataFrame(feat_sort)[:15])"
   ]
  },
  {
   "cell_type": "markdown",
   "metadata": {},
   "source": [
    "*** Try to hypertune second RF model with Over/Under training set ***"
   ]
  },
  {
   "cell_type": "code",
   "execution_count": 16,
   "metadata": {},
   "outputs": [
    {
     "name": "stdout",
     "output_type": "stream",
     "text": [
      "{'max_depth': None, 'max_leaf_nodes': None, 'min_samples_leaf': 1, 'min_samples_split': 2}\n",
      "0.778839195253\n"
     ]
    }
   ],
   "source": [
    "param_grid ={'min_samples_leaf':[1, 5, 10],\n",
    "             'min_samples_split':[2, 10, 20],\n",
    "             'max_depth':[None, 5, 10],\n",
    "             'max_leaf_nodes':[None, 5, 20]} #choose a grid of parameters\n",
    "\n",
    "rf = RandomForestClassifier(n_jobs=-1)#don't specifcy n_est in the intialization\n",
    "gr=GridSearchCV(rf,param_grid=param_grid, cv=10)#pass in predictor, and gridded parameters\n",
    "rs=gr.fit(X_train_over_under,y_train_over_under)#run predictor with each parameter using training data\n",
    "#pred=rs.predict_proba(X_test)[:,1]\n",
    "#print (roc_auc_score(np.array(y_test), pred))\n",
    "print (rs.best_params_) #will output the best parameter\n",
    "print (rs.best_score_) #will output the best parameter"
   ]
  },
  {
   "cell_type": "code",
   "execution_count": 17,
   "metadata": {},
   "outputs": [
    {
     "name": "stdout",
     "output_type": "stream",
     "text": [
      "Accuracy: 63.23\n"
     ]
    }
   ],
   "source": [
    "rf = RandomForestClassifier(n_jobs=-1, random_state=0,n_estimators=100, \n",
    "                            max_depth= None, \n",
    "                            max_leaf_nodes= None, \n",
    "                            min_samples_leaf= 1, \n",
    "                            min_samples_split= 2)\n",
    "\n",
    "rf=rf.fit(X_train_over_under,y_train_over_under)#run predictor with each parameter using training data\n",
    "pred=rf.predict(X_test)\n",
    "\n",
    "print ('Accuracy: %.2f' % ((len(y_test[pred == y_test])/len(y_test))*100))"
   ]
  },
  {
   "cell_type": "code",
   "execution_count": null,
   "metadata": {
    "collapsed": true
   },
   "outputs": [],
   "source": []
  }
 ],
 "metadata": {
  "kernelspec": {
   "display_name": "Python 3",
   "language": "python",
   "name": "python3"
  },
  "language_info": {
   "codemirror_mode": {
    "name": "ipython",
    "version": 3
   },
   "file_extension": ".py",
   "mimetype": "text/x-python",
   "name": "python",
   "nbconvert_exporter": "python",
   "pygments_lexer": "ipython3",
   "version": "3.6.2"
  }
 },
 "nbformat": 4,
 "nbformat_minor": 2
}
